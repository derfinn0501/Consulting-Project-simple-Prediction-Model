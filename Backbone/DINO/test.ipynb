{
 "cells": [
  {
   "cell_type": "markdown",
   "id": "0b066bc9",
   "metadata": {},
   "source": [
    "# Test Run DINO with FracNet"
   ]
  },
  {
   "cell_type": "code",
   "execution_count": 38,
   "id": "e87ba8e7",
   "metadata": {},
   "outputs": [],
   "source": [
    "# activated dependecies\n",
    "import torch\n",
    "import os\n",
    "import torchvision\n",
    "from torchvision.transforms import v2"
   ]
  },
  {
   "cell_type": "code",
   "execution_count": 39,
   "id": "7b3c5e93",
   "metadata": {},
   "outputs": [
    {
     "name": "stdout",
     "output_type": "stream",
     "text": [
      "Current directory: c:\\Users\\Finn Kopmann\\Dokumente\\Studium\\Master StaDs\\semester 3\\consulting\\code\\Consulting-Project-simple-Prediction-Model\\Backbone\\DINO\n"
     ]
    }
   ],
   "source": [
    "cwd = os.getcwd()\n",
    "print(\"Current directory:\", cwd)"
   ]
  },
  {
   "cell_type": "code",
   "execution_count": 40,
   "id": "87a9464b",
   "metadata": {},
   "outputs": [
    {
     "name": "stderr",
     "output_type": "stream",
     "text": [
      "Ignored kwargs: {'backbone_weights': 'weights\\\\dinov3_vits16_pretrain_lvd1689m-08c60483.pth'}\n"
     ]
    }
   ],
   "source": [
    "# initiate DINO model\n",
    "REPO_DIR = \"dinov3\"\n",
    "CHECKPOINT_PATH = \"weights\\dinov3_vits16_pretrain_lvd1689m-08c60483.pth\"\n",
    "\n",
    "# DINOv3 ViT models pretrained on web images\n",
    "dinov3_vits16 = torch.hub.load(REPO_DIR, 'dinov3_vits16', source='local', backbone_weights=CHECKPOINT_PATH)"
   ]
  },
  {
   "cell_type": "code",
   "execution_count": 41,
   "id": "fa188a35",
   "metadata": {},
   "outputs": [
    {
     "name": "stdout",
     "output_type": "stream",
     "text": [
      "Image loaded successfully\n"
     ]
    }
   ],
   "source": [
    "# load image\n",
    "img_path = r\"test_image\\tor-zum-32-marco-gruell-sv-werder-bremen-17-jubel-mit-der-mannschaft-ger-sv-werder-bremen-vs-1.jpg\"\n",
    "image = load_image(img_path)\n",
    "print(f\"Image loaded successfully\")"
   ]
  },
  {
   "cell_type": "code",
   "execution_count": 42,
   "id": "d7be93da",
   "metadata": {},
   "outputs": [],
   "source": [
    "def make_transform(resize_size: int = 256):\n",
    "    to_tensor = v2.ToImage()\n",
    "    resize = v2.Resize((resize_size, resize_size), antialias=True)\n",
    "    to_float = v2.ToDtype(torch.float32, scale=True)\n",
    "    normalize = v2.Normalize(\n",
    "        mean=(0.485, 0.456, 0.406),\n",
    "        std=(0.229, 0.224, 0.225),\n",
    "    )\n",
    "    return v2.Compose([to_tensor, resize, to_float, normalize])"
   ]
  },
  {
   "cell_type": "code",
   "execution_count": 47,
   "id": "8509b2ef",
   "metadata": {},
   "outputs": [],
   "source": [
    "# test\n",
    "batch = make_transform()(image).unsqueeze(0)"
   ]
  },
  {
   "cell_type": "code",
   "execution_count": 48,
   "id": "4773d811",
   "metadata": {},
   "outputs": [],
   "source": [
    "with torch.inference_mode():\n",
    "    feats = dinov3_vits16.forward_features(batch) \n",
    "\n",
    "if isinstance(feats, dict):\n",
    "    pooled_output = feats[\"x_norm_clstoken\"]\n",
    "    patch_tokens = feats[\"x_norm_patchtokens\"]\n",
    "else:\n",
    "    # fallback if forward_features() not implemented\n",
    "    tokens = model(batch) \n",
    "    pooled_output = tokens[:,0]          \n",
    "    patch_tokens = tokens[:,1+model.num_register_tokens:,:]"
   ]
  },
  {
   "cell_type": "code",
   "execution_count": 51,
   "id": "4de677b6",
   "metadata": {},
   "outputs": [
    {
     "data": {
      "text/plain": [
       "torch.Size([1, 384])"
      ]
     },
     "execution_count": 51,
     "metadata": {},
     "output_type": "execute_result"
    }
   ],
   "source": [
    "pooled_output.shape"
   ]
  }
 ],
 "metadata": {
  "kernelspec": {
   "display_name": ".venv",
   "language": "python",
   "name": "python3"
  },
  "language_info": {
   "codemirror_mode": {
    "name": "ipython",
    "version": 3
   },
   "file_extension": ".py",
   "mimetype": "text/x-python",
   "name": "python",
   "nbconvert_exporter": "python",
   "pygments_lexer": "ipython3",
   "version": "3.11.1"
  }
 },
 "nbformat": 4,
 "nbformat_minor": 5
}
