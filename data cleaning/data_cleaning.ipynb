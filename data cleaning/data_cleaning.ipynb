{
 "cells": [
  {
   "cell_type": "markdown",
   "id": "16bdb9b6",
   "metadata": {},
   "source": [
    "# Data cleaning\n",
    "\n",
    "Potentially data cleaning will be necessary\n"
   ]
  },
  {
   "cell_type": "markdown",
   "id": "879ff579",
   "metadata": {},
   "source": [
    "## Key Data Cleaning Considerations for Clinical Data:\n",
    "\n",
    "1. Missing Values\n",
    "    - Check for NULL, NaN, empty strings, or placeholder values\n",
    "    - Determine if missing values are random or systematic\n",
    "    \n",
    "2. Data Type Consistency\n",
    "    - Ensure numerical fields are properly formatted\n",
    "    - Check date/time formats are consistent\n",
    "    - Verify categorical variables are properly encoded\n",
    "\n",
    "3. Outliers and Anomalies\n",
    "    - Identify biological implausible values\n",
    "    - Check for data entry errors\n",
    "    - Look for extreme values that could impact analysis\n",
    "\n",
    "4. Duplicate Records\n",
    "    - Check for exact duplicates\n",
    "    - Identify potential partial duplicates\n",
    "    - Verify patient identifiers\n",
    "\n",
    "5. Data Integrity\n",
    "    - Cross-reference related fields\n",
    "    - Verify logical relationships (e.g., dates of procedures)\n",
    "    - Check for impossible combinations\n",
    "\n",
    "6. Documentation\n",
    "    - Track all cleaning steps\n",
    "    - Keep raw data preserved"
   ]
  }
 ],
 "metadata": {
  "kernelspec": {
   "display_name": "base",
   "language": "python",
   "name": "python3"
  },
  "language_info": {
   "codemirror_mode": {
    "name": "ipython",
    "version": 3
   },
   "file_extension": ".py",
   "mimetype": "text/x-python",
   "name": "python",
   "nbconvert_exporter": "python",
   "pygments_lexer": "ipython3",
   "version": "3.12.7"
  }
 },
 "nbformat": 4,
 "nbformat_minor": 5
}
