{
 "cells": [
  {
   "cell_type": "markdown",
   "id": "f9d29abe",
   "metadata": {},
   "source": [
    "# Explainable Boosting Machine (EBMs)"
   ]
  }
 ],
 "metadata": {
  "language_info": {
   "name": "python"
  }
 },
 "nbformat": 4,
 "nbformat_minor": 5
}
