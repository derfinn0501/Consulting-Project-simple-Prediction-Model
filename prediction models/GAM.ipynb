{
 "cells": [
  {
   "cell_type": "markdown",
   "id": "f300b7e2",
   "metadata": {},
   "source": [
    "# GAM"
   ]
  }
 ],
 "metadata": {
  "language_info": {
   "name": "python"
  }
 },
 "nbformat": 4,
 "nbformat_minor": 5
}
