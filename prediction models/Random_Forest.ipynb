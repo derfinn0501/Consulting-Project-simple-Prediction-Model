{
 "cells": [
  {
   "cell_type": "markdown",
   "id": "63922224",
   "metadata": {},
   "source": [
    "# Random Forest"
   ]
  }
 ],
 "metadata": {
  "language_info": {
   "name": "python"
  }
 },
 "nbformat": 4,
 "nbformat_minor": 5
}
