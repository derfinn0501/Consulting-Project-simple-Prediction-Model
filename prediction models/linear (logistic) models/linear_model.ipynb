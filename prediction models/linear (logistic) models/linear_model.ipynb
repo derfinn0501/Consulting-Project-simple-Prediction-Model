{
 "cells": [
  {
   "cell_type": "markdown",
   "id": "3635a5c3",
   "metadata": {},
   "source": [
    "# Linear Model"
   ]
  },
  {
   "cell_type": "markdown",
   "id": "0bbf8e25",
   "metadata": {},
   "source": []
  }
 ],
 "metadata": {
  "language_info": {
   "name": "python"
  }
 },
 "nbformat": 4,
 "nbformat_minor": 5
}
